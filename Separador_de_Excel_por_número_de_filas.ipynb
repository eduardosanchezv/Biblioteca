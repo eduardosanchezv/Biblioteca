{
  "nbformat": 4,
  "nbformat_minor": 0,
  "metadata": {
    "colab": {
      "name": "Separador de Excel por número de filas.ipynb",
      "provenance": [],
      "collapsed_sections": []
    },
    "kernelspec": {
      "name": "python3",
      "display_name": "Python 3"
    }
  },
  "cells": [
    {
      "cell_type": "markdown",
      "metadata": {
        "id": "HEVpI6Ne056g"
      },
      "source": [
        "#Separador de excel por número de filas.\n",
        "\n",
        "El siguiente script se encarga de el Excel subido a colab, poder separarlo en las columnas y filas definidas por el usuario. Extrayendo los \"n\" Excel con los resultados de la separación en un archivo .zip."
      ]
    },
    {
      "cell_type": "markdown",
      "metadata": {
        "id": "uGY5FypGGdsv"
      },
      "source": [
        "###Subida de archivo Excel a separar\n",
        "\n",
        "Se debe realizar la subida a la carpeta \"content\" que viene por defecto de colab, el archivo Excel a través del icono de subida ![Screenshot_4.png](data:image/png;base64,iVBORw0KGgoAAAANSUhEUgAAACMAAAAeCAYAAACmPacqAAAAAXNSR0IArs4c6QAAAARnQU1BAACxjwv8YQUAAAAJcEhZcwAADsMAAA7DAcdvqGQAAADqSURBVFhH7dYxDoMgFAbgXtWVmZnZQ3gHD+HMjKuHYH7NT3wNoWIeKrQDf/In9gnp16YNvuiP0jG5dEwuRZht22hd12zvRoTx3pMxhoZhOO00TfuOaxFhnHPhzbTWNI7jYZ8AFWHmed4n32HMHVAVzFVQNQxaCqqKQbFXmscwWBMX38rPMGmwtjlmWZbQNM0xQGCOpqCmmBjCjUHNMNba8Fop9YHwNe4hzTA4q3AE4OBkDK4xwz2kGSYOY9J0DGa5eVXM2SNEWqytgpE+XKXFHv5BSyLCcPCPwSeVFGtLU4SpnY7JpWOOQ/QGnp1bw2wp1XUAAAAASUVORK5CYII=) y se deben ejecutar los bloques de código para generar la separación del Excel.\n"
      ]
    },
    {
      "cell_type": "markdown",
      "metadata": {
        "id": "V5k_sF4x1wEA"
      },
      "source": [
        "##Instalación de librerías y creación de carpeta de almacenamiento de los Excel posterior a la separación.\n",
        "\n",
        "Se realiza la instalación de la librería \"xlswritter\" que se utiliza para la creación de los Excel que contienen el contenido ya separado por la cantidad de filas especificadas.\n",
        "\n",
        "Se realiza la creación de la carpeta 'export' para almacenar los Excel resultantes de la separación."
      ]
    },
    {
      "cell_type": "code",
      "metadata": {
        "id": "ok_-jIE_8iEq",
        "outputId": "898e4b36-e50c-4a9c-fe6b-47d1cbcb2b5d",
        "colab": {
          "base_uri": "https://localhost:8080/",
          "height": 100
        }
      },
      "source": [
        "!pip install xlsxwriter\n",
        "!mkdir 'export'"
      ],
      "execution_count": 1,
      "outputs": [
        {
          "output_type": "stream",
          "text": [
            "Collecting xlsxwriter\n",
            "\u001b[?25l  Downloading https://files.pythonhosted.org/packages/6b/41/bf1aae04932d1eaffee1fc5f8b38ca47bbbf07d765129539bc4bcce1ce0c/XlsxWriter-1.3.7-py2.py3-none-any.whl (144kB)\n",
            "\r\u001b[K     |██▎                             | 10kB 17.0MB/s eta 0:00:01\r\u001b[K     |████▌                           | 20kB 1.7MB/s eta 0:00:01\r\u001b[K     |██████▉                         | 30kB 2.3MB/s eta 0:00:01\r\u001b[K     |█████████                       | 40kB 2.5MB/s eta 0:00:01\r\u001b[K     |███████████▎                    | 51kB 2.0MB/s eta 0:00:01\r\u001b[K     |█████████████▋                  | 61kB 2.2MB/s eta 0:00:01\r\u001b[K     |███████████████▉                | 71kB 2.5MB/s eta 0:00:01\r\u001b[K     |██████████████████▏             | 81kB 2.6MB/s eta 0:00:01\r\u001b[K     |████████████████████▍           | 92kB 2.9MB/s eta 0:00:01\r\u001b[K     |██████████████████████▋         | 102kB 2.8MB/s eta 0:00:01\r\u001b[K     |█████████████████████████       | 112kB 2.8MB/s eta 0:00:01\r\u001b[K     |███████████████████████████▏    | 122kB 2.8MB/s eta 0:00:01\r\u001b[K     |█████████████████████████████▌  | 133kB 2.8MB/s eta 0:00:01\r\u001b[K     |███████████████████████████████▊| 143kB 2.8MB/s eta 0:00:01\r\u001b[K     |████████████████████████████████| 153kB 2.8MB/s \n",
            "\u001b[?25hInstalling collected packages: xlsxwriter\n",
            "Successfully installed xlsxwriter-1.3.7\n"
          ],
          "name": "stdout"
        }
      ]
    },
    {
      "cell_type": "markdown",
      "metadata": {
        "id": "XKJORsVZ2kUT"
      },
      "source": [
        "##Definición de parametros para separación del Excel\n",
        "\n",
        "Se debe definir el nombre del archivo con la extensión correspondiente en xlxs."
      ]
    },
    {
      "cell_type": "code",
      "metadata": {
        "id": "Hxbkz_YiOtOE"
      },
      "source": [
        "dataframe_name = 'Maestro_Carga.xlsx'\n",
        "columns_dataframe = 'OBRA_CODIGO','DOBJ_TITULO_OBRA','DOBJ_AUTOR_OBRA','DOBJ_INTERPRETE_OBRA'\n",
        "num_rows = 2000"
      ],
      "execution_count": 128,
      "outputs": []
    },
    {
      "cell_type": "markdown",
      "metadata": {
        "id": "ShGLY40jFG0r"
      },
      "source": [
        "##Lectura de archivo Excel\n",
        "\n",
        "Se realiza la lectura del archivo excel en formato xlsx, xls y csv."
      ]
    },
    {
      "cell_type": "code",
      "metadata": {
        "id": "DKbQAz499HK5"
      },
      "source": [
        "index = dataframe_name.rfind('.')\n",
        "extension = dataframe_name[index:]\n",
        "if extension == '.xlsx':\n",
        "  data = pd.read_excel(dataframe_name)\n",
        "elif extension == '.xls':\n",
        "  data = pd.read_excel(dataframe_name)\n",
        "else:\n",
        "  data = pd.read_csv(dataframe_name)"
      ],
      "execution_count": 129,
      "outputs": []
    },
    {
      "cell_type": "markdown",
      "metadata": {
        "id": "FvY5aR90F7UR"
      },
      "source": [
        "##Separación de Excel en números de filas definidos\n",
        "\n",
        "Se realiza la separación del archivo Excel leído y se generan nuevos Excel separados por el número de filas especificado en los parametros."
      ]
    },
    {
      "cell_type": "code",
      "metadata": {
        "id": "2cpQdVmcuWSb"
      },
      "source": [
        "import pandas as pd\n",
        "import numpy as np\n",
        "df = pd.DataFrame(data, columns=(columns_dataframe))\n",
        "groups = df.groupby(np.arange(len(df.index))//num_rows)\n",
        "for i, g in groups:\n",
        "    g.to_excel(\"export/%s.xlsx\" % i, engine='xlsxwriter', index=False, index_label=True)"
      ],
      "execution_count": 101,
      "outputs": []
    },
    {
      "cell_type": "markdown",
      "metadata": {
        "id": "mYT5xflnGPLh"
      },
      "source": [
        "##Descarga de los archivos Excel generados\n",
        "\n",
        "Se realiza la extracción de los archivos Excel generados en un archivo comprimido en formato .zip.\n",
        "\n",
        "Si es que no se tiene permitido la descarga desde el navegador, se debe colocar permitir, en donde se levantará la ventana del explorador para guardar el archivo .zip que contiene los archivos Excel resultantes de la separación."
      ]
    },
    {
      "cell_type": "code",
      "metadata": {
        "id": "sBL266zl__YV",
        "outputId": "baf376ce-723b-49c5-df27-7749cfff5e53",
        "colab": {
          "base_uri": "https://localhost:8080/",
          "height": 1000
        }
      },
      "source": [
        "from google.colab import files\n",
        "!zip -r /content/file.zip /content/export\n",
        "files.download(\"/content/file.zip\")"
      ],
      "execution_count": 103,
      "outputs": [
        {
          "output_type": "stream",
          "text": [
            "updating: content/export/ (stored 0%)\n",
            "updating: content/export/225.xlsx (deflated 12%)\n",
            "updating: content/export/193.xlsx (deflated 10%)\n",
            "updating: content/export/183.xlsx (deflated 11%)\n",
            "updating: content/export/224.xlsx (deflated 12%)\n",
            "updating: content/export/283.xlsx (deflated 10%)\n",
            "updating: content/export/198.xlsx (deflated 12%)\n",
            "updating: content/export/181.xlsx (deflated 11%)\n",
            "updating: content/export/196.xlsx (deflated 12%)\n",
            "updating: content/export/149.xlsx (deflated 10%)\n",
            "updating: content/export/190.xlsx (deflated 13%)\n",
            "updating: content/export/96.xlsx (deflated 5%)\n",
            "updating: content/export/57.xlsx (deflated 6%)\n",
            "updating: content/export/73.xlsx (deflated 8%)\n",
            "updating: content/export/50.xlsx (deflated 8%)\n",
            "updating: content/export/15.xlsx (deflated 9%)\n",
            "updating: content/export/259.xlsx (deflated 12%)\n",
            "updating: content/export/9.xlsx (deflated 6%)\n",
            "updating: content/export/268.xlsx (deflated 12%)\n",
            "updating: content/export/163.xlsx (deflated 12%)\n",
            "updating: content/export/27.xlsx (deflated 6%)\n",
            "updating: content/export/263.xlsx (deflated 11%)\n",
            "updating: content/export/140.xlsx (deflated 8%)\n",
            "updating: content/export/12.xlsx (deflated 7%)\n",
            "updating: content/export/192.xlsx (deflated 10%)\n",
            "updating: content/export/288.xlsx (deflated 11%)\n",
            "updating: content/export/82.xlsx (deflated 6%)\n",
            "updating: content/export/94.xlsx (deflated 5%)\n",
            "updating: content/export/141.xlsx (deflated 7%)\n",
            "updating: content/export/237.xlsx (deflated 11%)\n",
            "updating: content/export/228.xlsx (deflated 11%)\n",
            "updating: content/export/10.xlsx (deflated 6%)\n",
            "updating: content/export/35.xlsx (deflated 5%)\n",
            "updating: content/export/205.xlsx (deflated 10%)\n",
            "updating: content/export/72.xlsx (deflated 4%)\n",
            "updating: content/export/176.xlsx (deflated 9%)\n",
            "updating: content/export/246.xlsx (deflated 11%)\n",
            "updating: content/export/13.xlsx (deflated 10%)\n",
            "updating: content/export/150.xlsx (deflated 10%)\n",
            "updating: content/export/212.xlsx (deflated 10%)\n",
            "updating: content/export/229.xlsx (deflated 11%)\n",
            "updating: content/export/88.xlsx (deflated 11%)\n",
            "updating: content/export/75.xlsx (deflated 5%)\n",
            "updating: content/export/231.xlsx (deflated 11%)\n",
            "updating: content/export/175.xlsx (deflated 11%)\n",
            "updating: content/export/125.xlsx (deflated 8%)\n",
            "updating: content/export/146.xlsx (deflated 8%)\n",
            "updating: content/export/207.xlsx (deflated 11%)\n",
            "updating: content/export/24.xlsx (deflated 10%)\n",
            "updating: content/export/83.xlsx (deflated 4%)\n",
            "updating: content/export/247.xlsx (deflated 12%)\n",
            "updating: content/export/52.xlsx (deflated 5%)\n",
            "updating: content/export/46.xlsx (deflated 6%)\n",
            "updating: content/export/135.xlsx (deflated 8%)\n",
            "updating: content/export/166.xlsx (deflated 10%)\n",
            "updating: content/export/127.xlsx (deflated 7%)\n",
            "updating: content/export/7.xlsx (deflated 5%)\n",
            "updating: content/export/43.xlsx (deflated 6%)\n",
            "updating: content/export/197.xlsx (deflated 11%)\n",
            "updating: content/export/133.xlsx (deflated 9%)\n",
            "updating: content/export/80.xlsx (deflated 5%)\n",
            "updating: content/export/164.xlsx (deflated 9%)\n",
            "updating: content/export/92.xlsx (deflated 4%)\n",
            "updating: content/export/281.xlsx (deflated 13%)\n",
            "updating: content/export/210.xlsx (deflated 11%)\n",
            "updating: content/export/265.xlsx (deflated 12%)\n",
            "updating: content/export/239.xlsx (deflated 12%)\n",
            "updating: content/export/5.xlsx (deflated 5%)\n",
            "updating: content/export/143.xlsx (deflated 9%)\n",
            "updating: content/export/66.xlsx (deflated 4%)\n",
            "updating: content/export/157.xlsx (deflated 10%)\n",
            "updating: content/export/90.xlsx (deflated 8%)\n",
            "updating: content/export/156.xlsx (deflated 9%)\n",
            "updating: content/export/138.xlsx (deflated 9%)\n",
            "updating: content/export/195.xlsx (deflated 10%)\n",
            "updating: content/export/58.xlsx (deflated 8%)\n",
            "updating: content/export/69.xlsx (deflated 12%)\n",
            "updating: content/export/301.xlsx (deflated 10%)\n",
            "updating: content/export/180.xlsx (deflated 11%)\n",
            "updating: content/export/147.xlsx (deflated 10%)\n",
            "updating: content/export/293.xlsx (deflated 12%)\n",
            "updating: content/export/278.xlsx (deflated 11%)\n",
            "updating: content/export/104.xlsx (deflated 7%)\n",
            "updating: content/export/244.xlsx (deflated 11%)\n",
            "updating: content/export/158.xlsx (deflated 9%)\n",
            "updating: content/export/188.xlsx (deflated 10%)\n",
            "updating: content/export/55.xlsx (deflated 9%)\n",
            "updating: content/export/165.xlsx (deflated 10%)\n",
            "updating: content/export/18.xlsx (deflated 6%)\n",
            "updating: content/export/253.xlsx (deflated 12%)\n",
            "updating: content/export/118.xlsx (deflated 5%)\n",
            "updating: content/export/256.xlsx (deflated 12%)\n",
            "updating: content/export/266.xlsx (deflated 12%)\n",
            "updating: content/export/102.xlsx (deflated 7%)\n",
            "updating: content/export/169.xlsx (deflated 9%)\n",
            "updating: content/export/167.xlsx (deflated 10%)\n",
            "updating: content/export/251.xlsx (deflated 12%)\n",
            "updating: content/export/227.xlsx (deflated 10%)\n",
            "updating: content/export/296.xlsx (deflated 12%)\n",
            "updating: content/export/173.xlsx (deflated 10%)\n",
            "updating: content/export/298.xlsx (deflated 11%)\n",
            "updating: content/export/97.xlsx (deflated 4%)\n",
            "updating: content/export/142.xlsx (deflated 8%)\n",
            "updating: content/export/271.xlsx (deflated 12%)\n",
            "updating: content/export/260.xlsx (deflated 12%)\n",
            "updating: content/export/255.xlsx (deflated 12%)\n",
            "updating: content/export/31.xlsx (deflated 9%)\n",
            "updating: content/export/87.xlsx (deflated 5%)\n",
            "updating: content/export/117.xlsx (deflated 5%)\n",
            "updating: content/export/282.xlsx (deflated 11%)\n",
            "updating: content/export/65.xlsx (deflated 7%)\n",
            "updating: content/export/262.xlsx (deflated 11%)\n",
            "updating: content/export/84.xlsx (deflated 6%)\n",
            "updating: content/export/32.xlsx (deflated 6%)\n",
            "updating: content/export/121.xlsx (deflated 5%)\n",
            "updating: content/export/290.xlsx (deflated 12%)\n",
            "updating: content/export/211.xlsx (deflated 12%)\n",
            "updating: content/export/113.xlsx (deflated 3%)\n",
            "updating: content/export/79.xlsx (deflated 4%)\n",
            "updating: content/export/107.xlsx (deflated 5%)\n",
            "updating: content/export/8.xlsx (deflated 9%)\n",
            "updating: content/export/202.xlsx (deflated 10%)\n",
            "updating: content/export/219.xlsx (deflated 12%)\n",
            "updating: content/export/116.xlsx (deflated 6%)\n",
            "updating: content/export/235.xlsx (deflated 12%)\n",
            "updating: content/export/47.xlsx (deflated 6%)\n",
            "updating: content/export/154.xlsx (deflated 11%)\n",
            "updating: content/export/22.xlsx (deflated 4%)\n",
            "updating: content/export/223.xlsx (deflated 11%)\n",
            "updating: content/export/60.xlsx (deflated 11%)\n",
            "updating: content/export/89.xlsx (deflated 5%)\n",
            "updating: content/export/81.xlsx (deflated 5%)\n",
            "updating: content/export/153.xlsx (deflated 9%)\n",
            "updating: content/export/38.xlsx (deflated 7%)\n",
            "updating: content/export/252.xlsx (deflated 12%)\n",
            "updating: content/export/63.xlsx (deflated 4%)\n",
            "updating: content/export/40.xlsx (deflated 9%)\n",
            "updating: content/export/26.xlsx (deflated 5%)\n",
            "updating: content/export/230.xlsx (deflated 10%)\n",
            "updating: content/export/14.xlsx (deflated 8%)\n",
            "updating: content/export/54.xlsx (deflated 6%)\n",
            "updating: content/export/49.xlsx (deflated 6%)\n",
            "updating: content/export/16.xlsx (deflated 6%)\n",
            "updating: content/export/280.xlsx (deflated 11%)\n",
            "updating: content/export/203.xlsx (deflated 11%)\n",
            "updating: content/export/4.xlsx (deflated 3%)\n",
            "updating: content/export/28.xlsx (deflated 10%)\n",
            "updating: content/export/185.xlsx (deflated 11%)\n",
            "updating: content/export/70.xlsx (deflated 5%)\n",
            "updating: content/export/111.xlsx (deflated 4%)\n",
            "updating: content/export/6.xlsx (deflated 5%)\n",
            "updating: content/export/187.xlsx (deflated 10%)\n",
            "updating: content/export/41.xlsx (deflated 6%)\n",
            "updating: content/export/105.xlsx (deflated 5%)\n",
            "updating: content/export/209.xlsx (deflated 11%)\n",
            "updating: content/export/137.xlsx (deflated 10%)\n",
            "updating: content/export/1.xlsx (deflated 4%)\n",
            "updating: content/export/245.xlsx (deflated 11%)\n",
            "updating: content/export/287.xlsx (deflated 11%)\n",
            "updating: content/export/168.xlsx (deflated 10%)\n",
            "updating: content/export/39.xlsx (deflated 4%)\n",
            "updating: content/export/124.xlsx (deflated 7%)\n",
            "updating: content/export/276.xlsx (deflated 11%)\n",
            "updating: content/export/267.xlsx (deflated 12%)\n",
            "updating: content/export/98.xlsx (deflated 4%)\n",
            "updating: content/export/67.xlsx (deflated 4%)\n",
            "updating: content/export/53.xlsx (deflated 7%)\n",
            "updating: content/export/76.xlsx (deflated 6%)\n",
            "updating: content/export/95.xlsx (deflated 14%)\n",
            "updating: content/export/270.xlsx (deflated 11%)\n",
            "updating: content/export/248.xlsx (deflated 12%)\n",
            "updating: content/export/292.xlsx (deflated 12%)\n",
            "updating: content/export/184.xlsx (deflated 10%)\n",
            "updating: content/export/0.xlsx (deflated 7%)\n",
            "updating: content/export/132.xlsx (deflated 11%)\n",
            "updating: content/export/217.xlsx (deflated 11%)\n",
            "updating: content/export/258.xlsx (deflated 12%)\n",
            "updating: content/export/215.xlsx (deflated 12%)\n",
            "updating: content/export/151.xlsx (deflated 8%)\n",
            "updating: content/export/23.xlsx (deflated 5%)\n",
            "updating: content/export/56.xlsx (deflated 7%)\n",
            "updating: content/export/61.xlsx (deflated 10%)\n",
            "updating: content/export/155.xlsx (deflated 10%)\n",
            "updating: content/export/186.xlsx (deflated 10%)\n",
            "updating: content/export/178.xlsx (deflated 10%)\n",
            "updating: content/export/226.xlsx (deflated 11%)\n",
            "updating: content/export/177.xlsx (deflated 10%)\n",
            "updating: content/export/179.xlsx (deflated 11%)\n",
            "updating: content/export/208.xlsx (deflated 11%)\n",
            "updating: content/export/19.xlsx (deflated 7%)\n",
            "updating: content/export/85.xlsx (deflated 9%)\n",
            "updating: content/export/29.xlsx (deflated 7%)\n",
            "updating: content/export/48.xlsx (deflated 6%)\n",
            "updating: content/export/200.xlsx (deflated 11%)\n",
            "updating: content/export/303.xlsx (deflated 8%)\n",
            "updating: content/export/174.xlsx (deflated 11%)\n",
            "updating: content/export/100.xlsx (deflated 9%)\n",
            "updating: content/export/160.xlsx (deflated 10%)\n",
            "updating: content/export/45.xlsx (deflated 8%)\n",
            "updating: content/export/297.xlsx (deflated 13%)\n",
            "updating: content/export/206.xlsx (deflated 10%)\n",
            "updating: content/export/134.xlsx (deflated 9%)\n",
            "updating: content/export/233.xlsx (deflated 12%)\n",
            "updating: content/export/294.xlsx (deflated 12%)\n",
            "updating: content/export/42.xlsx (deflated 5%)\n",
            "updating: content/export/273.xlsx (deflated 11%)\n",
            "updating: content/export/214.xlsx (deflated 11%)\n",
            "updating: content/export/78.xlsx (deflated 8%)\n",
            "updating: content/export/101.xlsx (deflated 9%)\n",
            "updating: content/export/275.xlsx (deflated 12%)\n",
            "updating: content/export/243.xlsx (deflated 11%)\n",
            "updating: content/export/123.xlsx (deflated 7%)\n",
            "updating: content/export/11.xlsx (deflated 7%)\n",
            "updating: content/export/221.xlsx (deflated 12%)\n",
            "updating: content/export/236.xlsx (deflated 12%)\n",
            "updating: content/export/128.xlsx (deflated 9%)\n",
            "updating: content/export/86.xlsx (deflated 3%)\n",
            "updating: content/export/222.xlsx (deflated 11%)\n",
            "updating: content/export/264.xlsx (deflated 12%)\n",
            "updating: content/export/17.xlsx (deflated 7%)\n",
            "updating: content/export/286.xlsx (deflated 11%)\n",
            "updating: content/export/199.xlsx (deflated 11%)\n",
            "updating: content/export/71.xlsx (deflated 6%)\n",
            "updating: content/export/51.xlsx (deflated 7%)\n",
            "updating: content/export/136.xlsx (deflated 8%)\n",
            "updating: content/export/106.xlsx (deflated 4%)\n",
            "updating: content/export/272.xlsx (deflated 12%)\n",
            "updating: content/export/109.xlsx (deflated 4%)\n",
            "updating: content/export/291.xlsx (deflated 12%)\n",
            "updating: content/export/119.xlsx (deflated 6%)\n",
            "updating: content/export/129.xlsx (deflated 11%)\n",
            "updating: content/export/103.xlsx (deflated 5%)\n",
            "updating: content/export/20.xlsx (deflated 9%)\n",
            "updating: content/export/99.xlsx (deflated 4%)\n",
            "updating: content/export/250.xlsx (deflated 12%)\n",
            "updating: content/export/170.xlsx (deflated 10%)\n",
            "updating: content/export/242.xlsx (deflated 11%)\n",
            "updating: content/export/37.xlsx (deflated 5%)\n",
            "updating: content/export/232.xlsx (deflated 11%)\n",
            "updating: content/export/191.xlsx (deflated 10%)\n",
            "updating: content/export/110.xlsx (deflated 4%)\n",
            "updating: content/export/171.xlsx (deflated 9%)\n",
            "updating: content/export/274.xlsx (deflated 12%)\n",
            "updating: content/export/289.xlsx (deflated 11%)\n",
            "updating: content/export/64.xlsx (deflated 4%)\n",
            "updating: content/export/112.xlsx (deflated 5%)\n",
            "updating: content/export/68.xlsx (deflated 4%)\n",
            "updating: content/export/261.xlsx (deflated 12%)\n",
            "updating: content/export/3.xlsx (deflated 4%)\n",
            "updating: content/export/172.xlsx (deflated 10%)\n",
            "updating: content/export/162.xlsx (deflated 8%)\n",
            "updating: content/export/299.xlsx (deflated 12%)\n",
            "updating: content/export/269.xlsx (deflated 10%)\n",
            "updating: content/export/295.xlsx (deflated 13%)\n",
            "updating: content/export/2.xlsx (deflated 5%)\n",
            "updating: content/export/218.xlsx (deflated 11%)\n",
            "updating: content/export/216.xlsx (deflated 11%)\n",
            "updating: content/export/21.xlsx (deflated 6%)\n",
            "updating: content/export/284.xlsx (deflated 11%)\n",
            "updating: content/export/300.xlsx (deflated 11%)\n",
            "updating: content/export/74.xlsx (deflated 5%)\n",
            "updating: content/export/145.xlsx (deflated 10%)\n",
            "updating: content/export/220.xlsx (deflated 11%)\n",
            "updating: content/export/120.xlsx (deflated 5%)\n",
            "updating: content/export/126.xlsx (deflated 6%)\n",
            "updating: content/export/30.xlsx (deflated 7%)\n",
            "updating: content/export/91.xlsx (deflated 4%)\n",
            "updating: content/export/33.xlsx (deflated 6%)\n",
            "updating: content/export/44.xlsx (deflated 11%)\n",
            "updating: content/export/108.xlsx (deflated 5%)\n",
            "updating: content/export/144.xlsx (deflated 7%)\n",
            "updating: content/export/234.xlsx (deflated 11%)\n",
            "updating: content/export/159.xlsx (deflated 10%)\n",
            "updating: content/export/62.xlsx (deflated 6%)\n",
            "updating: content/export/254.xlsx (deflated 12%)\n",
            "updating: content/export/77.xlsx (deflated 6%)\n",
            "updating: content/export/257.xlsx (deflated 12%)\n",
            "updating: content/export/93.xlsx (deflated 10%)\n",
            "updating: content/export/189.xlsx (deflated 11%)\n",
            "updating: content/export/204.xlsx (deflated 11%)\n",
            "updating: content/export/148.xlsx (deflated 10%)\n",
            "updating: content/export/122.xlsx (deflated 5%)\n",
            "updating: content/export/131.xlsx (deflated 9%)\n",
            "updating: content/export/285.xlsx (deflated 11%)\n",
            "updating: content/export/115.xlsx (deflated 5%)\n",
            "updating: content/export/241.xlsx (deflated 11%)\n",
            "updating: content/export/130.xlsx (deflated 10%)\n",
            "updating: content/export/161.xlsx (deflated 10%)\n",
            "updating: content/export/201.xlsx (deflated 10%)\n",
            "updating: content/export/36.xlsx (deflated 7%)\n",
            "updating: content/export/240.xlsx (deflated 11%)\n",
            "updating: content/export/182.xlsx (deflated 9%)\n",
            "updating: content/export/238.xlsx (deflated 12%)\n",
            "updating: content/export/302.xlsx (deflated 11%)\n",
            "updating: content/export/277.xlsx (deflated 11%)\n",
            "updating: content/export/25.xlsx (deflated 7%)\n",
            "updating: content/export/114.xlsx (deflated 4%)\n",
            "updating: content/export/279.xlsx (deflated 11%)\n",
            "updating: content/export/194.xlsx (deflated 12%)\n",
            "updating: content/export/213.xlsx (deflated 11%)\n",
            "updating: content/export/139.xlsx (deflated 9%)\n",
            "updating: content/export/34.xlsx (deflated 9%)\n",
            "updating: content/export/59.xlsx (deflated 11%)\n",
            "updating: content/export/249.xlsx (deflated 12%)\n",
            "updating: content/export/152.xlsx (deflated 8%)\n"
          ],
          "name": "stdout"
        },
        {
          "output_type": "display_data",
          "data": {
            "application/javascript": [
              "\n",
              "    async function download(id, filename, size) {\n",
              "      if (!google.colab.kernel.accessAllowed) {\n",
              "        return;\n",
              "      }\n",
              "      const div = document.createElement('div');\n",
              "      const label = document.createElement('label');\n",
              "      label.textContent = `Downloading \"${filename}\": `;\n",
              "      div.appendChild(label);\n",
              "      const progress = document.createElement('progress');\n",
              "      progress.max = size;\n",
              "      div.appendChild(progress);\n",
              "      document.body.appendChild(div);\n",
              "\n",
              "      const buffers = [];\n",
              "      let downloaded = 0;\n",
              "\n",
              "      const channel = await google.colab.kernel.comms.open(id);\n",
              "      // Send a message to notify the kernel that we're ready.\n",
              "      channel.send({})\n",
              "\n",
              "      for await (const message of channel.messages) {\n",
              "        // Send a message to notify the kernel that we're ready.\n",
              "        channel.send({})\n",
              "        if (message.buffers) {\n",
              "          for (const buffer of message.buffers) {\n",
              "            buffers.push(buffer);\n",
              "            downloaded += buffer.byteLength;\n",
              "            progress.value = downloaded;\n",
              "          }\n",
              "        }\n",
              "      }\n",
              "      const blob = new Blob(buffers, {type: 'application/binary'});\n",
              "      const a = document.createElement('a');\n",
              "      a.href = window.URL.createObjectURL(blob);\n",
              "      a.download = filename;\n",
              "      div.appendChild(a);\n",
              "      a.click();\n",
              "      div.remove();\n",
              "    }\n",
              "  "
            ],
            "text/plain": [
              "<IPython.core.display.Javascript object>"
            ]
          },
          "metadata": {
            "tags": []
          }
        },
        {
          "output_type": "display_data",
          "data": {
            "application/javascript": [
              "download(\"download_0dfadfe8-7fa9-4b4d-a5a2-36821bf8dbfc\", \"file.zip\", 17887908)"
            ],
            "text/plain": [
              "<IPython.core.display.Javascript object>"
            ]
          },
          "metadata": {
            "tags": []
          }
        }
      ]
    }
  ]
}